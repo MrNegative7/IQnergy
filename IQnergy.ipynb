{
 "cells": [
  {
   "cell_type": "code",
   "execution_count": 1,
   "id": "01c779a2-f24d-4f9e-bef1-687d74584738",
   "metadata": {},
   "outputs": [
    {
     "data": {
      "text/plain": [
       "'Модуль concurrent.futures предоставляет высокоуровневый интерфейс для асинхронного выполнения вызываемых объектов (программирования), \\nвключая поддержку многопоточности и многопроцессорности.'"
      ]
     },
     "execution_count": 1,
     "metadata": {},
     "output_type": "execute_result"
    }
   ],
   "source": [
    "from concurrent.futures import ThreadPoolExecutor, as_completed\n",
    "import time\n",
    "'''Модуль concurrent.futures предоставляет высокоуровневый интерфейс для асинхронного выполнения вызываемых объектов (программирования), \n",
    "включая поддержку многопоточности и многопроцессорности.'''"
   ]
  },
  {
   "cell_type": "code",
   "execution_count": 2,
   "id": "e677bc7e-56b2-4f3b-8520-bbb04ee54b6d",
   "metadata": {},
   "outputs": [],
   "source": [
    "class ProcessController:\n",
    "    def __init__(self):\n",
    "        '''В конструкторе (__init__) инициализируется пул потоков, очередь будущих результатов и максимальное кол-во заданий'''\n",
    "        self.executor = ThreadPoolExecutor()\n",
    "        self.future_queue = []\n",
    "        self.max_procs = None\n",
    "\n",
    "    def set_max_proc(self, n):\n",
    "        '''Функция set_max_proc дает максимальное кол-во заданий, которые могут быть запущены одновременно'''\n",
    "        self.max_procs = n\n",
    "\n",
    "    def start(self, tasks, max_exec_time):\n",
    "        '''Функция start добавляет задания в очередь и запускает их выполнение до достижения максимального количества заданий в очереди.\n",
    "        Каждое задание выполняется в отдельном потоке, и после его завершения проверяется таймаут max_exec_time.'''\n",
    "        self.future_queue.extend([self.executor.submit(func, *args) for func, args in tasks])\n",
    "        while len(self.future_queue) > self.max_procs and self.future_queue:\n",
    "            future_to_remove = self.future_queue.pop(0)\n",
    "            try:\n",
    "                result = future_to_remove.result(timeout=max_exec_time)\n",
    "            except Exception as e:\n",
    "                print(f\"Задача не выполнена с исключением {e}. Задача не выполнена.\")\n",
    "            else:\n",
    "                print(f\"Задача успешно завершена с результатом {result}\")\n",
    "\n",
    "    def wait(self):\n",
    "        '''Метод wait ожидает завершения всех заданий, вызывая .result() для каждого будущего результата в очереди.'''\n",
    "        while self.future_queue:\n",
    "            future = self.future_queue.pop(0)\n",
    "            try:\n",
    "                result = future.result()\n",
    "            except Exception as e:\n",
    "                print(f\"Задача не выполнена с исключением {e}. Задача не выполнена.\")\n",
    "            else:\n",
    "                print(f\"Задача успешно завершена с результатом {result}\")\n",
    "\n",
    "    def wait_count(self):\n",
    "        '''Метод wait_count возвращает количество оставшихся заданий, которые еще должны быть запущены.'''\n",
    "        return len(self.future_queue)\n",
    "\n",
    "    def alive_count(self):\n",
    "        '''Метод alive_count возвращает текущее количество активно выполняющихся заданий, используя as_completed.'''\n",
    "        return len(list(as_completed(self.future_queue)))"
   ]
  },
  {
   "cell_type": "code",
   "execution_count": 3,
   "id": "0549a7e6-d111-42de-bd86-1492cc9963f9",
   "metadata": {},
   "outputs": [
    {
     "name": "stdout",
     "output_type": "stream",
     "text": [
      "Выполнение задачи 1\n",
      "Выполнение задачи 2\n",
      "Выполнение задачи 3\n",
      "Задача успешно завершена с результатом Задача 1 выполнена!\n",
      "Задача успешно завершена с результатом Задача 2 выполнена!\n",
      "Задача успешно завершена с результатом Задача 3 выполнена!\n",
      "Оставшиеся задачи: 0\n",
      "Выполнение задач: 0\n"
     ]
    },
    {
     "data": {
      "text/plain": [
       "'Этот подход позволяет эффективно управлять параллельным выполнением заданий с использованием пула потоков, \\nобеспечивая ограничение на количество одновременно выполняемых заданий и возможность контролировать выполнение заданий через таймауты.'"
      ]
     },
     "execution_count": 3,
     "metadata": {},
     "output_type": "execute_result"
    }
   ],
   "source": [
    "# Пример использования класса ProcessController\n",
    "# Пусть нам нужно узнать сколько ученик выполнил задач по математике. В качестве номера задачи будет выступать переменная task_id\n",
    "\n",
    "def task_function(task_id):\n",
    "    print(f\"Выполнение задачи {task_id}\")\n",
    "    time.sleep(1)\n",
    "    return f\"Задача {task_id} выполнена!\"\n",
    "\n",
    "# Создание экземпляра ProcessController.\n",
    "controller = ProcessController()\n",
    "\n",
    "# Установка максимального количества задач\n",
    "controller.set_max_proc(2)\n",
    "\n",
    "# Определить список задач, которые необходимо выполнить\n",
    "tasks = [(task_function, (1, )), (task_function, (2, )), (task_function, (3, ))]\n",
    "\n",
    "# Приступить к выполнению задач\n",
    "controller.start(tasks, 3) # (tasks, max_exec_time). Переменная max_exec_time берется на усмотрение\n",
    "\n",
    "# Дождитесь завершения всех задач\n",
    "controller.wait()\n",
    "\n",
    "# Получить количество оставшихся задач\n",
    "remaining_tasks = controller.wait_count()\n",
    "print(f\"Оставшиеся задачи: {remaining_tasks}\")\n",
    "\n",
    "# Получить количество выполняемых в данный момент задач\n",
    "executing_tasks = controller.alive_count()\n",
    "print(f\"Выполнение задач: {executing_tasks}\")\n",
    "\n",
    "'''Этот подход позволяет эффективно управлять параллельным выполнением заданий с использованием пула потоков, \n",
    "обеспечивая ограничение на количество одновременно выполняемых заданий и возможность контролировать выполнение заданий через таймауты.'''"
   ]
  },
  {
   "cell_type": "code",
   "execution_count": null,
   "id": "53ff8249-1562-4920-909f-eb28157bbfba",
   "metadata": {},
   "outputs": [],
   "source": []
  }
 ],
 "metadata": {
  "kernelspec": {
   "display_name": "Python 3 (ipykernel)",
   "language": "python",
   "name": "python3"
  },
  "language_info": {
   "codemirror_mode": {
    "name": "ipython",
    "version": 3
   },
   "file_extension": ".py",
   "mimetype": "text/x-python",
   "name": "python",
   "nbconvert_exporter": "python",
   "pygments_lexer": "ipython3",
   "version": "3.10.1"
  }
 },
 "nbformat": 4,
 "nbformat_minor": 5
}
